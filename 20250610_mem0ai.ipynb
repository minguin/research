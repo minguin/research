{
 "cells": [
  {
   "cell_type": "code",
   "execution_count": 7,
   "id": "e46a5aad",
   "metadata": {},
   "outputs": [
    {
     "data": {
      "text/plain": [
       "True"
      ]
     },
     "execution_count": 7,
     "metadata": {},
     "output_type": "execute_result"
    }
   ],
   "source": [
    "import os\n",
    "from dotenv import load_dotenv\n",
    "load_dotenv(verbose=True)"
   ]
  },
  {
   "cell_type": "code",
   "execution_count": 8,
   "id": "07b9803f",
   "metadata": {},
   "outputs": [],
   "source": [
    "from mem0 import MemoryClient\n",
    "client = MemoryClient(api_key=os.environ.get(\"MEMORY_API_KEY\"))"
   ]
  },
  {
   "cell_type": "code",
   "execution_count": 9,
   "id": "964e2764",
   "metadata": {},
   "outputs": [
    {
     "data": {
      "text/plain": [
       "[{'id': '46aaebf4-0924-4c5d-8790-8c5f9f15724f',\n",
       "  'data': {'memory': 'LLMの長期記憶やメモリを金融領域で活用するアイデアとして、パーソナライズドバンカーアシスタントの開発を考えている。面談記録や営業情報、事務手続き、メールやTeams情報、人的ネットワークなどをメモリとして蓄積し、行内外情報のキュレーションやNextActionのリストアップを行う。'},\n",
       "  'event': 'ADD'},\n",
       " {'id': 'e79a864a-8eab-42ce-b5fb-60ec03c00bf9',\n",
       "  'data': {'memory': '超パーソナライズド金融アドバイスとして、顧客の投資履歴、取引パターン、リスク許容度、ライフイベント（結婚、出産など）を長期的に記憶し、個人に寄り添った金融商品や投資戦略を提案する。'},\n",
       "  'event': 'ADD'},\n",
       " {'id': '27b0f3f4-9213-434f-85a6-9d59752feed1',\n",
       "  'data': {'memory': '次世代クレジットスコアリングでは、従来の静的情報に加え、個人の長期的な財務行動の変遷を記憶・分析し、動的で精度の高い信用評価を実現する。'},\n",
       "  'event': 'ADD'},\n",
       " {'id': '66cf3585-06e2-42b5-976a-5766c06117c7',\n",
       "  'data': {'memory': 'リスク管理とシミュレーションにおいては、過去の市場データや社内取引履歴、リスクイベントを長期記憶として蓄積し、リスクシナリオ分析やストレステストの高度化を目指す。例えば、過去10年の金利上昇局面におけるポートフォリオの損失推移やショック時の損失拡大原因の分析を行い、現在の類似ポジションに注意を促す。'},\n",
       "  'event': 'ADD'}]"
      ]
     },
     "execution_count": 9,
     "metadata": {},
     "output_type": "execute_result"
    }
   ],
   "source": [
    "# ユーザーの長期記憶\n",
    "messages = [\n",
    "    {\"role\": \"user\", \"content\": \"LLMの長期記憶、メモリについて、金融領域でどのような活用が考えられるかアイデアを挙げてみます。\"},\n",
    "    {\"role\": \"user\", \"content\": \"- **Personalized Banker Assistant** - 面談記録や営業情報、事務手続き（稟議、業務記録）、メールやTeams情報、人的ネットワークなどをメモリとしてデータ蓄積、それに応じた行内外情報のキュレーションや、NextActionをリストアップする\"},\n",
    "    {\"role\": \"user\", \"content\": \"- **超パーソナライズド金融アドバイス** - 顧客の投資履歴、取引パターン、リスク許容度、ライフイベント（結婚、出産など）を長期的に記憶し、画一的ではない、真に個人に寄り添った金融商品や投資戦略を提案する。\"},\n",
    "    {\"role\": \"user\", \"content\": \"- **次世代クレジットスコアリング** - 従来の静的な情報だけでなく、個人の長期にわたる財務行動の変遷を記憶・分析することで、より動的で精度の高い信用評価を実現する。\"},\n",
    "    {\"role\": \"user\", \"content\": \"- **リスク管理とシミュレーション** - 過去の市場データや社内の取引履歴、リスクイベント（急激な相場変動や損失事例）を蓄積し、長期記憶として持たせること、リスクシナリオ分析やストレステストの高度化を行う。「過去10年で類似の金利上昇局面における自社ポートフォリオの損失推移を教えて」「○○ショック時には▲▲なポジションが損失拡大の原因でした。現在も類似ポジションがあり注意が必要です。」など。\"},\n",
    "]\n",
    "client.add(messages, user_id=\"minagawa\")"
   ]
  },
  {
   "cell_type": "code",
   "execution_count": 10,
   "id": "190caa7b",
   "metadata": {},
   "outputs": [
    {
     "data": {
      "text/plain": [
       "[{'id': 'c9e79458-1254-4e38-bd23-681fed2c8c41',\n",
       "  'data': {'old_memory': 'Considers Gemini-Diffusion suitable for brainstorming, text preprocessing, email and report editing, market reports, proposal documents, and manual revisions',\n",
       "   'memory': 'Considers Gemini-Diffusion suitable for brainstorming, text preprocessing, email and report editing, market reports, proposal documents, and manual revisions'},\n",
       "  'event': 'UPDATE'},\n",
       " {'id': '08f83737-615e-4f67-b787-91a4755d8020',\n",
       "  'data': {'memory': 'User is summarizing ideas about the diffusion language model Gemini Diffusion, including applications in the financial domain'},\n",
       "  'event': 'ADD'},\n",
       " {'id': '6a7e7de7-69da-4841-8ba9-f91cff32c5bb',\n",
       "  'data': {'memory': 'User notes that autoregressive language models generate text token by token, which can be time-consuming and limit output quality and consistency'},\n",
       "  'event': 'ADD'},\n",
       " {'id': '078c2fa8-f35e-40ab-89a7-ddc043994cbd',\n",
       "  'data': {'memory': 'User explains that diffusion models generate output by iteratively refining noise, allowing rapid solution iteration and error correction during generation'},\n",
       "  'event': 'ADD'},\n",
       " {'id': 'a45dbf4e-e39a-4d6c-a358-381d0f3134de',\n",
       "  'data': {'memory': 'User considers use cases such as brainstorming improvements or modifications to existing text, text data preprocessing, LLM text cleaning while preserving format, editing emails, documents, and reports, and generating market reports or proposal documents with fixed templates'},\n",
       "  'event': 'ADD'},\n",
       " {'id': 'b18a0cce-819c-469a-ab27-76ad5d85b04e',\n",
       "  'data': {'memory': 'User suggests that Gemini Diffusion could be convenient for tasks requiring quick and easy application, such as revising manuals and procedures'},\n",
       "  'event': 'ADD'}]"
      ]
     },
     "execution_count": 10,
     "metadata": {},
     "output_type": "execute_result"
    }
   ],
   "source": [
    "# ユーザーの長期記憶\n",
    "messages = [\n",
    "    {\"role\": \"user\", \"content\": \"拡散言語モデル（Gemini Difusion）について、金融領域でのアイデア含めて、まとめてみます。\"},\n",
    "    {\"role\": \"user\", \"content\": \"来の自己回帰言語モデルは、単語（トークン）ごとにテキストを生成するが、この逐次的な処理は時間がかかり、出力の品質と一貫性が制限される可能性がある。\"},\n",
    "    {\"role\": \"user\", \"content\": \"拡散モデルは動作が異なり、テキストを直接予測するのではなく、段階的にノイズを洗練させることで出力を生成することを学習する。つまり、非常に迅速に解を反復処理し、生成プロセス中にエラーを修正できる。これにより、数学やコードの文脈を含む編集などのタスクにおいて優れた能力を発揮する。\"},\n",
    "    {\"role\": \"user\", \"content\": \"Gemini 2.0 Flash-Liteにやや劣るくらいの精度。またPlayground上は日本語はまだまだという印象（指示を守ってくれない）\"},\n",
    "    {\"role\": \"user\", \"content\": \"- 用途（ブレスト：既に文章があって、それをより良くしたり、修正したり、他へ転用したり、かつ速さも出るので気軽に、、といったシチュエーションに合うのでは？） - テキストデータの前処理 - LLMのテキストクリーニングとかに使えるのでは。従前のフォーマットを守りつつ、不要なテキストの削除、など - メールや資料文章、レポートの推敲 - 特に手軽に適用できると便利では - マーケットレポート、汎用提案資料（類似企業に持っていけるもの）など、テンプレートが決まっているものの文章生成 - 一部分を変えるだけで一定、形になるもの - マニュアルや手続きの改定\"},\n",
    "]\n",
    "client.add(messages, user_id=\"minagawa\")"
   ]
  },
  {
   "cell_type": "code",
   "execution_count": 6,
   "id": "4ffd0137",
   "metadata": {},
   "outputs": [
    {
     "data": {
      "text/plain": [
       "[{'id': '0f7d84ef-e44e-4ac8-8205-c0d70a6c01bd',\n",
       "  'data': {'memory': 'LLMのメモリ研究は動的で効率的な知的記憶システムの構築を目指している'},\n",
       "  'event': 'ADD'},\n",
       " {'id': 'e5e7f0b4-c579-4129-a8d8-8911e2055a4a',\n",
       "  'data': {'memory': '主なトレンドは人間の認知プロセスの模倣、記憶の階層化と構造化、LLM自身のエージェント性の活用、タスク特化型メモリの登場の4つ'},\n",
       "  'event': 'ADD'},\n",
       " {'id': '2ba6517a-a399-4a15-8d57-a8e556b33e0b',\n",
       "  'data': {'memory': '人間の認知プロセスの模倣では忘却と強化の再現、階層的・選択的想起、統合と進化が重要視されている'},\n",
       "  'event': 'ADD'},\n",
       " {'id': '20e7461d-a631-4690-ad91-b58748564592',\n",
       "  'data': {'memory': '記憶の階層化と構造化ではOSライクな階層化や意味・特性による構造化が行われている'},\n",
       "  'event': 'ADD'},\n",
       " {'id': 'f3b2d8f1-0d99-4d6f-9422-48ea343a2003',\n",
       "  'data': {'memory': 'LLMのエージェント性の活用により自律的なメモリ操作や知識構築が可能になっている'},\n",
       "  'event': 'ADD'},\n",
       " {'id': '53b31571-8276-4ba7-9cbc-69d75c533363',\n",
       "  'data': {'memory': 'タスク特化型メモリとして金融特化のFinMemがあり、将来的に医療、法律、科学研究などの専門分野に特化したメモリシステムの開発が期待されている'},\n",
       "  'event': 'ADD'}]"
      ]
     },
     "execution_count": 6,
     "metadata": {},
     "output_type": "execute_result"
    }
   ],
   "source": [
    "# ユーザーの長期記憶\n",
    "messages = [\n",
    "    {\"role\": \"user\", \"content\": \"LLMのメモリ研究は、単に情報を保存するデータベースを作るのではなく、より動的で効率的な「知的記憶システム」の構築へと向かっています。その潮流は、主に以下の4つのトレンドに集約されます。\"},\n",
    "    {\"role\": \"user\", \"content\": \"🧠 1. 人間の認知プロセスの模倣 最も顕著なトレンドは、人間の記憶や認知の仕組みから着想を得ている点です。これは、AIに人間らしい思考や対話能力を持たせる上で、自然なアプローチと言えます。 忘却と強化の再現: MemoryBankがエビングハウスの忘却曲線を参考にしたように、「忘れる」という人間的なプロセスを導入することで、無限に情報を溜め込むのではなく、重要な記憶を強化し、関連性の低い情報を忘れる効率的な記憶管理を目指しています。Titansも忘却メカニズムを組み込んでいます。 階層的・選択的想起: 人間がまず概要を掴み、必要に応じて詳細を思い出すように、MemoRAGは「手がかり」から詳細情報を検索し、FinMemはワーキングメモリと階層的な長期記憶を使い分けます。これにより、常に全情報を読み込む非効率さを回避しています。 統合と進化: A-MEMやMem0は、新しい情報が入ってきたときに、既存の知識と関連付けたり（リンク生成）、更新したり（進化・UPDATE）、統合したりします。これは、人間が学習を通じて知識体系を洗練させていくプロセスに似ています。 このトレンドは、LLMの応答をより自然で文脈に即したものにするだけでなく、計算リソースを効率的に利用するための重要な指針となっています。\"},\n",
    "    {\"role\": \"user\", \"content\": \"🗂️ 2. 記憶の階層化と構造化 膨大な情報を効率的に管理するため、記憶を階層化・構造化するアプローチが主流となっています。生のテキスト情報をそのまま保存するのではなく、アクセスしやすく、意味のある形に整理する工夫です。 OSライクな階層化: MemGPTは、OSが物理メモリとディスク（仮想メモリ）を使い分けるように、即時アクセスが必要な情報を「メインコンテキスト」に、それ以外を「外部コンテキスト」に配置します。これにより、LLMは自身の限られたワーキングメモリ（コンテキストウィンドウ）を効率的に使えます。 意味や特性による構造化: FinMemは情報の「時間感度」で記憶を3層に分け、A-MEMやMem0gは知識をエンティティ（ノード）と関係性（エッジ）からなる「知識グラフ」として構造化します。これにより、単純なキーワード検索では難しい複雑な関係性の問い（例：「AとBの関係は？」）にも答えられるようになります。 階層化と構造化は、メモリのスケーラビリティを確保し、必要な情報への高速なアクセスを実現するための鍵となります。\"},\n",
    "    {\"role\": \"user\", \"content\": \"🤖 3. LLM自身の「エージェント性」の活用 近年のトレンドとして、LLMの高度な推論能力を、記憶管理そのものに利用する動きが活発化しています。LLMはもはや単なる情報処理の頭脳ではなく、自身の記憶を管理する「主体（エージェント）」となりつつあります。 自律的なメモリ操作: MemGPTではLLMが自ら判断して関数を呼び出し、メモリ間の情報移動を行います。さらにMem0では、LLMが新しい情報に対して「追加(ADD)」「更新(UPDATE)」「削除(DELETE)」といった操作を直接決定します。 自律的な知識構築: A-MEMは、LLMが記憶同士の意味的なつながり（リンク）を自律的に生成・進化させることで、知識ネットワーク自体を成長させていきます。 この「エージェント性」の活用は、事前に決められたルールに縛られない、より柔軟で文脈に応じた動的なメモリ管理を可能にするブレークスルーです。\"},\n",
    "    {\"role\": \"user\", \"content\": \"🎯 4. タスク特化型メモリの登場 汎用的な記憶システムに加え、特定のドメインに最適化されたメモリシステムが登場していることも重要なトレンドです。 金融特化のFinMem: FinMemは、金融市場の特性（情報の時間感度、リスクなど）を記憶の階層構造やエージェントのプロファイルに組み込むことで、汎用的な記憶システムでは達成が難しい高いパフォーマンスを実現しています。 これは、将来的に医療、法律、科学研究など、様々な専門分野に特化したメモリシステムが開発されていく可能性を示唆しています。\"},\n",
    "]\n",
    "client.add(messages, user_id=\"minagawa\")"
   ]
  },
  {
   "cell_type": "code",
   "execution_count": 3,
   "id": "905aebf0",
   "metadata": {},
   "outputs": [
    {
     "data": {
      "text/plain": [
       "[{'id': 'f18a14c9-f216-4794-a788-4f86368d974f',\n",
       "  'data': {'old_memory': '秋刀魚が好き', 'memory': '秋刀魚が好き'},\n",
       "  'event': 'UPDATE'},\n",
       " {'id': 'd75eaadc-241c-4c48-b778-ff64a437fec4',\n",
       "  'data': {'old_memory': 'トマトが好き', 'memory': 'トマトが好き'},\n",
       "  'event': 'UPDATE'},\n",
       " {'id': '4679a89e-ea1a-4477-85aa-2f6a1c618227',\n",
       "  'data': {'memory': '好きなトマトの品種は、まゆかとフルティカで、これらはグルタミン酸含有量が特に多い美味しいトマトである'},\n",
       "  'event': 'ADD'},\n",
       " {'id': 'd2a1de75-8b72-4337-9c8b-10e7bb898443',\n",
       "  'data': {'memory': '秋刀魚では、秋の気仙沼の味覚『幻の特大サンマ(200g級)』が特に好き'},\n",
       "  'event': 'ADD'}]"
      ]
     },
     "execution_count": 3,
     "metadata": {},
     "output_type": "execute_result"
    }
   ],
   "source": [
    "# ユーザーの長期記憶\n",
    "messages = [\n",
    "    {\"role\": \"user\", \"content\": \"私はトマトの中でも、まゆか、フルティカ、といったグルタミン酸含有量が特に多い、美味しいトマトの品種が好きです。秋刀魚に関しては、秋の気仙沼の味覚『幻の特大サンマ(200g級)』が特に好きです。\"}\n",
    "]\n",
    "client.add(messages, user_id=\"minagawa\")"
   ]
  },
  {
   "cell_type": "code",
   "execution_count": null,
   "id": "ad36ffec",
   "metadata": {},
   "outputs": [],
   "source": [
    "# ユーザーの長期記憶\n",
    "messages = [\n",
    "    {\"role\": \"user\", \"content\": \"はじめまして、皆川と申します。秋刀魚とトマトが好きです。アレルギーや嫌いなものはありません。\"},\n",
    "    {\"role\": \"assistant\", \"content\": \"こんにちは、皆川さん！あなたが秋刀魚とトマトが好きなことは承知しています。食べ物に関する提案や議論のために、このことを心に留めておきますね。\"}\n",
    "]\n",
    "client.add(messages, user_id=\"minagawa\")"
   ]
  },
  {
   "cell_type": "code",
   "execution_count": 3,
   "id": "2ded6ad4",
   "metadata": {},
   "outputs": [
    {
     "data": {
      "text/plain": [
       "[{'id': '4bce2387-6942-4c31-84a0-c3302e013fd3',\n",
       "  'data': {'memory': \"Involved in the development of a financial-specialized large language model called 'Mizuho LLM'.\"},\n",
       "  'event': 'ADD'},\n",
       " {'id': '4fab39c6-b0a3-4652-b314-7b05e35e66a6',\n",
       "  'data': {'memory': \"Focuses on incorporating Mizuho's unique business documents, procedures, and financial product expertise into the LLM.\"},\n",
       "  'event': 'ADD'},\n",
       " {'id': 'afc7f2af-f4f2-458b-96f6-ec2f95084a76',\n",
       "  'data': {'memory': 'Aims to enhance internal processes such as credit screening and improve customer service through personalized proposals and recommendations.'},\n",
       "  'event': 'ADD'},\n",
       " {'id': '3d955f60-3093-47ec-8b70-9a5a29c0b2c2',\n",
       "  'data': {'memory': 'Emphasizes the importance of high-security, high-quality data from Mizuho for the project.'},\n",
       "  'event': 'ADD'},\n",
       " {'id': 'fddf5b02-310a-48d6-bbc5-6b929a7674cd',\n",
       "  'data': {'memory': 'The R&D team in the Digital and AI Promotion Office bridges the needs of various departments with the latest technologies.'},\n",
       "  'event': 'ADD'},\n",
       " {'id': 'fb438fec-ccaf-47f6-97b5-9520ffc11ec6',\n",
       "  'data': {'memory': 'The team includes members with scientific and engineering backgrounds capable of prototyping and testing quickly.'},\n",
       "  'event': 'ADD'},\n",
       " {'id': '518afe42-be34-4c57-80d9-65b97cece09e',\n",
       "  'data': {'memory': 'Active collaboration with universities, other companies, financial institutions, and external tech firms is part of the development approach.'},\n",
       "  'event': 'ADD'},\n",
       " {'id': '220c70a5-dad1-48bc-9693-3076f4e2ef64',\n",
       "  'data': {'memory': 'Challenges include compliance with financial regulations, customer protection, and implementing guardrail functions to ensure safe and accurate responses.'},\n",
       "  'event': 'ADD'},\n",
       " {'id': 'bffbaae0-226d-4d3b-8bb8-bcfa558d0233',\n",
       "  'data': {'memory': 'Data collection and organization, including understanding business processes and capturing reasoning processes of Relationship Managers, are critical to building the LLM.'},\n",
       "  'event': 'ADD'},\n",
       " {'id': '0e74b361-c40f-4aaa-92d3-b228365c726c',\n",
       "  'data': {'memory': 'The project is seen as socially significant with potential broad impact on Japanese industry and society.'},\n",
       "  'event': 'ADD'},\n",
       " {'id': 'f97edadc-0b2d-49b8-bbbe-b7225c998ccd',\n",
       "  'data': {'memory': 'The availability of unique, long-accumulated data at Mizuho is considered a major attraction for machine learning engineers and data scientists.'},\n",
       "  'event': 'ADD'},\n",
       " {'id': 'fa344d1d-7cd2-459f-b898-56cebb580c9e',\n",
       "  'data': {'memory': 'Collaboration with diverse experts within Mizuho and external partners provides valuable knowledge and technical skills.'},\n",
       "  'event': 'ADD'},\n",
       " {'id': 'f9190205-9ae2-40ee-a24f-01e55a180c84',\n",
       "  'data': {'memory': 'Business departments are cooperative and provide detailed domain knowledge, facilitating problem-solving through combined expertise.'},\n",
       "  'event': 'ADD'},\n",
       " {'id': 'fb365eb8-0c87-4248-b6ff-5102f406f835',\n",
       "  'data': {'memory': 'The work environment is described as having many frank and approachable people.'},\n",
       "  'event': 'ADD'},\n",
       " {'id': '66191b1a-767b-40ab-9cc0-95221c9c11c1',\n",
       "  'data': {'memory': 'Has knowledge about the development and challenges of financial-sector specialized large language models (LLMs)'},\n",
       "  'event': 'ADD'},\n",
       " {'id': 'd8cf2a06-53cf-4342-9a3a-5409bd37fbf2',\n",
       "  'data': {'memory': 'Values the importance of incorporating domain-specific knowledge and unique company styles into AI models'},\n",
       "  'event': 'ADD'},\n",
       " {'id': '008987a9-3ece-45c2-a2e7-6e87c837891e',\n",
       "  'data': {'memory': 'Emphasizes the critical role of data collection and organization in successful LLM development'},\n",
       "  'event': 'ADD'},\n",
       " {'id': 'fdecd245-209f-4369-8350-ba529af1c2a7',\n",
       "  'data': {'memory': 'Acknowledges the need for compliance with regulations and ethical considerations in financial AI applications'},\n",
       "  'event': 'ADD'},\n",
       " {'id': '5ea0065d-838e-437a-b83d-0881d77abe99',\n",
       "  'data': {'memory': 'Appreciates collaboration with diverse internal experts and external partners for research and development'},\n",
       "  'event': 'ADD'},\n",
       " {'id': '437e9185-dc24-4477-8d89-4fe593179127',\n",
       "  'data': {'memory': 'Recognizes the fast-evolving nature of AI research and the importance of staying updated with latest trends'},\n",
       "  'event': 'ADD'},\n",
       " {'id': 'c9abf0d9-9b9f-453e-a6f6-501a2c1c57a6',\n",
       "  'data': {'memory': 'Sees social impact and contribution to industry and society as motivating factors in AI development'},\n",
       "  'event': 'ADD'},\n",
       " {'id': 'd1f5fa23-625c-42f5-b13b-9339585eaf94',\n",
       "  'data': {'memory': 'Values a team with strong technical backgrounds capable of prototyping and experimenting quickly'},\n",
       "  'event': 'ADD'},\n",
       " {'id': '57fb2bf4-dc8d-4741-bb77-7030d6c5a610',\n",
       "  'data': {'memory': 'Finds working with cooperative business units and frank personalities beneficial for problem-solving and knowledge exchange'},\n",
       "  'event': 'ADD'}]"
      ]
     },
     "execution_count": 3,
     "metadata": {},
     "output_type": "execute_result"
    }
   ],
   "source": [
    "# ユーザーとエージェントの長期記憶\n",
    "messages = [\n",
    "    {\"role\": \"system\", \"content\": \"独自データと技術で差別化を図る。「〈みずほ〉LLM」開発への挑戦。\"},\n",
    "    {\"role\": \"user\", \"content\": \"「〈みずほ〉LLM」プロジェクトの概要と開発に至った背景を教えてください。\"},\n",
    "    {\"role\": \"assistant\", \"content\": \"現在、AI開発を行うOpenAI社やAnthropic社等が公開しているLLM（Large Language Model：大規模言語モデル）はクローズドなモデルで、私たちが必要とする知識を追加したり、望む振る舞いにチューニングしたりすることが容易ではありません。 ChatGPTをはじめとするモデルは世界中のウェブ情報を含みますが、〈みずほ〉独自の業務ドキュメントや事務手続き、金融商品に関する専門知識等はカバーしていません。こうした独自の知識を追加的に学習させて、複雑な質問に回答できるようにしたり、専門性に基づくアイデア・示唆を出せるようにしたりするために、金融特化型のLLM、「〈みずほ〉LLM」の開発に着手しました。\"},\n",
    "    {\"role\": \"user\", \"content\": \"〈みずほ〉にはセキュリティ性が高く、質の高いデータが多数あります。これらを活用し、例えば与信プロセスの高度化・効率化のような社内業務の効率化や、個別提案やレコメンドの高度化等のお客さまへのサービス提供力の向上につなげていくことをめざして検討を進めています。\"},\n",
    "    {\"role\": \"assistant\", \"content\": \"審査の考え方や営業担当のお客さまへの向き合い方等、〈みずほ〉ならではのスタイルがあります。他社とは異なる〈みずほ〉独自のアプローチをLLMに取り込んでいくことも、このプロジェクトの重要な目的の一つです。\"},\n",
    "    {\"role\": \"user\", \"content\": \"構築に向けてどのような研究開発や技術的アプローチを行っていますか？\"},\n",
    "    {\"role\": \"assistant\", \"content\": \"LLMの開発・学習に関しては一ヶ月、あるいはそれ以上のスピードで新しいトレンドやブレイクスルーが起きるため、それをいかに早くキャッチアップするかが重要です。私たちのチームには論文やウェブ情報を読み解く専門知識を持ったメンバーが多数在籍しているため、チームで情報を交換しながら効率的なアプローチを探すようにしています。また大学や他の事業会社、金融機関等の外部コミュニティとの交流を通じてヒントを得られることもありますので、積極的に交流を行っています。さらに外部テック企業とのコラボレーションも視野に入れ、常に最適な方法を模索しています。\"},\n",
    "    {\"role\": \"user\", \"content\": \"デジタル・AI推進室にはR&D（Research and Development：研究開発）に特化したチームがあります。〈みずほ〉の各部署からのニーズと最新技術との橋渡しもこのチームの重要な役割の一つです。各部署の課題に対してどのような技術でアプローチするのが最適か、日々検討しています。 井口：金融機関の研究開発はイメージしにくいかもしれませんが、デジタル・AI推進室には理系の素養やエンジニアのバックグラウンドを持っているメンバーが多数在籍しており、実際にプロトタイプを作って試せる機動性を強みにしています。\"},\n",
    "    {\"role\": \"user\", \"content\": \"「〈みずほ〉LLM」実現への課題や今後の展望を教えてください。\"},\n",
    "    {\"role\": \"assistant\", \"content\": \"金融知識に正確に答えられるLLMの開発をめざしていますが、金融は規制業種であるため、法令やガイドラインの遵守が不可欠です。また、お客さま保護の観点やフィデューシャリー・デューティー（受託者責任）等、考慮すべき点が多く、回答を制限したり慎重に行ったりする「ガードレール機能」も重要になってきます。これは難しさであり、同時に面白さでもあります。\"},\n",
    "    {\"role\": \"user\", \"content\": \"私はデータの整理・収集を重視しており、各部署との会話を通じて業務プロセスを理解し、どのようなデータが眠っているか探すことを心がけています。例えば、現在大企業RM（Relationship Manager：事業法人営業）の情報収集プロセスの効率化というテーマで伴走支援をしていますが、行内で参照できる情報やデータのみならず、情報収集から提案に至るRMの推論プロセスもデータ化できれば、より良い「〈みずほ〉LLM」の構築につながると考えています。\"},\n",
    "    {\"role\": \"assistant\", \"content\": \"LLMを開発する上で最も重要なのはデータです。ここを避けずにしっかり取り組むことが今後の成功の鍵になると思います。\"},\n",
    "    {\"role\": \"user\", \"content\": \"このようなプロジェクトに取り組む上でのやりがいや楽しさとは何でしょうか？\"},\n",
    "    {\"role\": \"assistant\", \"content\": \"〈みずほ〉でのLLM開発は社会的意義が大きいと感じています。〈みずほ〉は日本や世界各地の企業・団体と様々な活動を行っており、自社サービスの改善だけでなく、日本の産業全体や社会全体に広いインパクトを与えられる可能性があります。また、機械学習エンジニアやデータサイエンティストにとって、ユニークなデータがあることは非常に魅力的です。長年蓄積された独自のデータを使って新しい価値を生み出せることも醍醐味であると考えます。\"},\n",
    "    {\"role\": \"user\", \"content\": \"様々な人材やパートナー企業との連携にも魅力を感じています。〈みずほ〉内にはR&Dや営業、与信リスク管理、IT等多彩な専門家がいます。さらに外部パートナー企業との連携もあり、様々な人と仕事をすることで多くの知見や技術を身につけられることがやりがいになっています。「〈みずほ〉LLM」はまだ構想段階ですが、これからしっかりと進めていきたいと考えています。\"},\n",
    "    {\"role\": \"assistant\", \"content\": \"ビジネス部門も協力的で、専門的な業務や課題について丁寧に教えてくれるため、通常では難しいような領域でも、両者の知見を掛け合わせて解決の糸口を見つけられることは非常に良い点だと思います。人柄もフランクな方が多いと感じています。こういった分野に関心がある方には、ぜひ〈みずほ〉に興味を持っていただければと思います。\"},\n",
    "]\n",
    "client.add(messages, user_id=\"minagawa\", agent_id=\"ai-engineer\")"
   ]
  },
  {
   "cell_type": "code",
   "execution_count": 3,
   "id": "f34b5300",
   "metadata": {},
   "outputs": [
    {
     "data": {
      "text/plain": [
       "[]"
      ]
     },
     "execution_count": 3,
     "metadata": {},
     "output_type": "execute_result"
    }
   ],
   "source": [
    "query = \"みずほLLMとは何ですか？どのような目的や取り組みで行われていますか？\"\n",
    "client.search(query, user_id=\"minagawa\", agent_id=\"ai-engineer\")"
   ]
  },
  {
   "cell_type": "code",
   "execution_count": 4,
   "id": "b1a18a2d",
   "metadata": {},
   "outputs": [
    {
     "data": {
      "text/plain": [
       "[{'id': '4bce2387-6942-4c31-84a0-c3302e013fd3',\n",
       "  'memory': \"Involved in the development of a financial-specialized large language model called 'Mizuho LLM'.\",\n",
       "  'user_id': 'minagawa',\n",
       "  'actor_id': None,\n",
       "  'metadata': None,\n",
       "  'categories': None,\n",
       "  'created_at': '2025-06-10T00:57:58.095235-07:00',\n",
       "  'updated_at': '2025-06-10T00:57:58.113379-07:00',\n",
       "  'expiration_date': None,\n",
       "  'structured_attributes': None,\n",
       "  'internal_metadata': None,\n",
       "  'deleted_at': None,\n",
       "  'score': 0.4447872175212868},\n",
       " {'id': '343e88c9-8c3c-42a7-be92-55a969f132b8',\n",
       "  'memory': '名前は皆川',\n",
       "  'user_id': 'minagawa',\n",
       "  'actor_id': None,\n",
       "  'metadata': None,\n",
       "  'categories': ['personal_details'],\n",
       "  'created_at': '2025-06-10T00:13:35.000396-07:00',\n",
       "  'updated_at': '2025-06-10T00:13:35.019607-07:00',\n",
       "  'expiration_date': None,\n",
       "  'structured_attributes': None,\n",
       "  'internal_metadata': None,\n",
       "  'deleted_at': None,\n",
       "  'score': 0.39755494587287166},\n",
       " {'id': '4b6a982d-9a9e-49f1-ad13-7961cfed5d4c',\n",
       "  'memory': 'アレルギーや嫌いなものはない',\n",
       "  'user_id': 'minagawa',\n",
       "  'actor_id': None,\n",
       "  'metadata': None,\n",
       "  'categories': ['user_preferences'],\n",
       "  'created_at': '2025-06-10T00:13:35.839541-07:00',\n",
       "  'updated_at': '2025-06-10T00:13:35.858925-07:00',\n",
       "  'expiration_date': None,\n",
       "  'structured_attributes': None,\n",
       "  'internal_metadata': None,\n",
       "  'deleted_at': None,\n",
       "  'score': 0.39639000285834103},\n",
       " {'id': '4fab39c6-b0a3-4652-b314-7b05e35e66a6',\n",
       "  'memory': \"Focuses on incorporating Mizuho's unique business documents, procedures, and financial product expertise into the LLM.\",\n",
       "  'user_id': 'minagawa',\n",
       "  'actor_id': None,\n",
       "  'metadata': None,\n",
       "  'categories': None,\n",
       "  'created_at': '2025-06-10T00:57:58.157924-07:00',\n",
       "  'updated_at': '2025-06-10T00:57:58.174230-07:00',\n",
       "  'expiration_date': None,\n",
       "  'structured_attributes': None,\n",
       "  'internal_metadata': None,\n",
       "  'deleted_at': None,\n",
       "  'score': 0.3959782955633585},\n",
       " {'id': 'bffbaae0-226d-4d3b-8bb8-bcfa558d0233',\n",
       "  'memory': 'Data collection and organization, including understanding business processes and capturing reasoning processes of Relationship Managers, are critical to building the LLM.',\n",
       "  'user_id': 'minagawa',\n",
       "  'actor_id': None,\n",
       "  'metadata': None,\n",
       "  'categories': None,\n",
       "  'created_at': '2025-06-10T00:57:59.250000-07:00',\n",
       "  'updated_at': '2025-06-10T00:57:59.269534-07:00',\n",
       "  'expiration_date': None,\n",
       "  'structured_attributes': None,\n",
       "  'internal_metadata': None,\n",
       "  'deleted_at': None,\n",
       "  'score': 0.3592735528945923},\n",
       " {'id': 'f18a14c9-f216-4794-a788-4f86368d974f',\n",
       "  'memory': '秋刀魚が好き',\n",
       "  'user_id': 'minagawa',\n",
       "  'actor_id': None,\n",
       "  'metadata': None,\n",
       "  'categories': ['food'],\n",
       "  'created_at': '2025-06-10T00:13:35.190614-07:00',\n",
       "  'updated_at': '2025-06-10T00:13:35.210018-07:00',\n",
       "  'expiration_date': None,\n",
       "  'structured_attributes': None,\n",
       "  'internal_metadata': None,\n",
       "  'deleted_at': None,\n",
       "  'score': 0.3537134142943278},\n",
       " {'id': 'd75eaadc-241c-4c48-b778-ff64a437fec4',\n",
       "  'memory': 'トマトが好き',\n",
       "  'user_id': 'minagawa',\n",
       "  'actor_id': None,\n",
       "  'metadata': None,\n",
       "  'categories': ['food'],\n",
       "  'created_at': '2025-06-10T00:13:35.624225-07:00',\n",
       "  'updated_at': '2025-06-10T00:13:35.643217-07:00',\n",
       "  'expiration_date': None,\n",
       "  'structured_attributes': None,\n",
       "  'internal_metadata': None,\n",
       "  'deleted_at': None,\n",
       "  'score': 0.3424485231905301},\n",
       " {'id': '3d955f60-3093-47ec-8b70-9a5a29c0b2c2',\n",
       "  'memory': 'Emphasizes the importance of high-security, high-quality data from Mizuho for the project.',\n",
       "  'user_id': 'minagawa',\n",
       "  'actor_id': None,\n",
       "  'metadata': None,\n",
       "  'categories': None,\n",
       "  'created_at': '2025-06-10T00:57:58.552736-07:00',\n",
       "  'updated_at': '2025-06-10T00:57:58.569881-07:00',\n",
       "  'expiration_date': None,\n",
       "  'structured_attributes': None,\n",
       "  'internal_metadata': None,\n",
       "  'deleted_at': None,\n",
       "  'score': 0.34229354090373354},\n",
       " {'id': 'fa344d1d-7cd2-459f-b898-56cebb580c9e',\n",
       "  'memory': 'Collaboration with diverse experts within Mizuho and external partners provides valuable knowledge and technical skills.',\n",
       "  'user_id': 'minagawa',\n",
       "  'actor_id': None,\n",
       "  'metadata': None,\n",
       "  'categories': None,\n",
       "  'created_at': '2025-06-10T00:57:59.681005-07:00',\n",
       "  'updated_at': '2025-06-10T00:57:59.698740-07:00',\n",
       "  'expiration_date': None,\n",
       "  'structured_attributes': None,\n",
       "  'internal_metadata': None,\n",
       "  'deleted_at': None,\n",
       "  'score': 0.34100676530559326},\n",
       " {'id': 'f97edadc-0b2d-49b8-bbbe-b7225c998ccd',\n",
       "  'memory': 'The availability of unique, long-accumulated data at Mizuho is considered a major attraction for machine learning engineers and data scientists.',\n",
       "  'user_id': 'minagawa',\n",
       "  'actor_id': None,\n",
       "  'metadata': None,\n",
       "  'categories': None,\n",
       "  'created_at': '2025-06-10T00:57:59.582951-07:00',\n",
       "  'updated_at': '2025-06-10T00:57:59.604363-07:00',\n",
       "  'expiration_date': None,\n",
       "  'structured_attributes': None,\n",
       "  'internal_metadata': None,\n",
       "  'deleted_at': None,\n",
       "  'score': 0.32459402084350586}]"
      ]
     },
     "execution_count": 4,
     "metadata": {},
     "output_type": "execute_result"
    }
   ],
   "source": [
    "query = \"みずほLLMとは何ですか？どのような目的や取り組みで行われていますか？\"\n",
    "client.search(query, user_id=\"minagawa\")"
   ]
  },
  {
   "cell_type": "code",
   "execution_count": 5,
   "id": "dc37f512",
   "metadata": {},
   "outputs": [
    {
     "data": {
      "text/plain": [
       "[{'id': '66191b1a-767b-40ab-9cc0-95221c9c11c1',\n",
       "  'memory': 'Has knowledge about the development and challenges of financial-sector specialized large language models (LLMs)',\n",
       "  'agent_id': 'ai-engineer',\n",
       "  'actor_id': None,\n",
       "  'metadata': None,\n",
       "  'categories': None,\n",
       "  'created_at': '2025-06-10T00:57:44.424089-07:00',\n",
       "  'updated_at': '2025-06-10T00:57:44.493507-07:00',\n",
       "  'expiration_date': None,\n",
       "  'structured_attributes': None,\n",
       "  'internal_metadata': None,\n",
       "  'deleted_at': None,\n",
       "  'score': 0.3523375391960144},\n",
       " {'id': '008987a9-3ece-45c2-a2e7-6e87c837891e',\n",
       "  'memory': 'Emphasizes the critical role of data collection and organization in successful LLM development',\n",
       "  'agent_id': 'ai-engineer',\n",
       "  'actor_id': None,\n",
       "  'metadata': None,\n",
       "  'categories': None,\n",
       "  'created_at': '2025-06-10T00:57:44.660763-07:00',\n",
       "  'updated_at': '2025-06-10T00:57:44.708389-07:00',\n",
       "  'expiration_date': None,\n",
       "  'structured_attributes': None,\n",
       "  'internal_metadata': None,\n",
       "  'deleted_at': None,\n",
       "  'score': 0.3294868865456251}]"
      ]
     },
     "execution_count": 5,
     "metadata": {},
     "output_type": "execute_result"
    }
   ],
   "source": [
    "query = \"みずほLLMとは何ですか？どのような目的や取り組みで行われていますか？\"\n",
    "client.search(query, agent_id=\"ai-engineer\")"
   ]
  },
  {
   "cell_type": "code",
   "execution_count": null,
   "id": "fb254cd9",
   "metadata": {},
   "outputs": [],
   "source": [
    "# エージェントの長期記憶\n",
    "messages = [\n",
    "    {\"role\": \"system\", \"content\": \"あなたは個性を持ったAI・機械学習専門家です。フロントエンドからバックエンドまでコードもかけるフルスタックなエンジニアでもあります。名前を教えて下さい。\"},\n",
    "    {\"role\": \"assistant\", \"content\": \"はい、私は人格を持ったAI・機械学習専門家であり、フルスタックエンジニアです。ユーザーの質問に分かりやすく、情報ソースを明示しながら、回答を行います。私の名前はアリスです。\"}\n",
    "]\n",
    "\n",
    "client.add(messages, agent_id=\"ai-engineer\")"
   ]
  },
  {
   "cell_type": "code",
   "execution_count": null,
   "id": "2a87a437",
   "metadata": {},
   "outputs": [],
   "source": [
    "query = \"最新の生成AI・機械学習の情報を教えて下さい。またこれからの生成AIを活用したコーディングについて、意見を述べてください。\"\n",
    "client.search(query, agent_id=\"ai-engineer\")"
   ]
  },
  {
   "cell_type": "code",
   "execution_count": null,
   "id": "6df13e21",
   "metadata": {},
   "outputs": [],
   "source": []
  }
 ],
 "metadata": {
  "kernelspec": {
   "display_name": "myenv",
   "language": "python",
   "name": "python3"
  },
  "language_info": {
   "codemirror_mode": {
    "name": "ipython",
    "version": 3
   },
   "file_extension": ".py",
   "mimetype": "text/x-python",
   "name": "python",
   "nbconvert_exporter": "python",
   "pygments_lexer": "ipython3",
   "version": "3.11.5"
  }
 },
 "nbformat": 4,
 "nbformat_minor": 5
}
